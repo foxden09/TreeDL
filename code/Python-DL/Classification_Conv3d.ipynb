{
 "cells": [
  {
   "cell_type": "markdown",
   "id": "23a9f93f-e14e-4506-a89f-d70baa11704d",
   "metadata": {},
   "source": [
    "## INSTALLATION\n"
   ]
  },
  {
   "cell_type": "markdown",
   "id": "009710e9-bf85-4592-b1b9-8a728c05940d",
   "metadata": {},
   "source": [
    "conda install pytorch torchvision torchaudio pytorch-cuda=12.1 -c pytorch -c nvidia  \n",
    "conda install seaborn  \n",
    "conda install -c conda-forge scikit-learn  \n",
    "pip install tifffile  \n",
    "conda install -c conda-forge notebook  \n",
    "pip install imagecodecs"
   ]
  },
  {
   "cell_type": "code",
   "execution_count": 18,
   "id": "41c8239a-7ea8-4338-933b-cb37769f7662",
   "metadata": {},
   "outputs": [
    {
     "name": "stdout",
     "output_type": "stream",
     "text": [
      "Collecting transformers\n",
      "  Downloading transformers-4.46.3-py3-none-any.whl.metadata (44 kB)\n",
      "\u001b[2K     \u001b[90m━━━━━━━━━━━━━━━━━━━━━━━━━━━━━━━━━━━━━━━\u001b[0m \u001b[32m44.1/44.1 kB\u001b[0m \u001b[31m975.6 kB/s\u001b[0m eta \u001b[36m0:00:00\u001b[0m \u001b[36m0:00:01\u001b[0m\n",
      "\u001b[?25hRequirement already satisfied: filelock in /storage/group/tvq5043/default/env/lib/python3.11/site-packages (from transformers) (3.15.1)\n",
      "Collecting huggingface-hub<1.0,>=0.23.2 (from transformers)\n",
      "  Downloading huggingface_hub-0.26.3-py3-none-any.whl.metadata (13 kB)\n",
      "Requirement already satisfied: numpy>=1.17 in /storage/group/tvq5043/default/env/lib/python3.11/site-packages (from transformers) (2.0.0)\n",
      "Requirement already satisfied: packaging>=20.0 in /storage/group/tvq5043/default/env/lib/python3.11/site-packages (from transformers) (24.1)\n",
      "Requirement already satisfied: pyyaml>=5.1 in /storage/group/tvq5043/default/env/lib/python3.11/site-packages (from transformers) (6.0.1)\n",
      "Collecting regex!=2019.12.17 (from transformers)\n",
      "  Downloading regex-2024.11.6-cp311-cp311-manylinux_2_17_x86_64.manylinux2014_x86_64.whl.metadata (40 kB)\n",
      "\u001b[2K     \u001b[90m━━━━━━━━━━━━━━━━━━━━━━━━━━━━━━━━━━━━━━━━\u001b[0m \u001b[32m40.5/40.5 kB\u001b[0m \u001b[31m1.1 MB/s\u001b[0m eta \u001b[36m0:00:00\u001b[0m\n",
      "\u001b[?25hRequirement already satisfied: requests in /storage/group/tvq5043/default/env/lib/python3.11/site-packages (from transformers) (2.32.3)\n",
      "Collecting tokenizers<0.21,>=0.20 (from transformers)\n",
      "  Downloading tokenizers-0.20.3-cp311-cp311-manylinux_2_17_x86_64.manylinux2014_x86_64.whl.metadata (6.7 kB)\n",
      "Collecting safetensors>=0.4.1 (from transformers)\n",
      "  Downloading safetensors-0.4.5-cp311-cp311-manylinux_2_17_x86_64.manylinux2014_x86_64.whl.metadata (3.8 kB)\n",
      "Collecting tqdm>=4.27 (from transformers)\n",
      "  Downloading tqdm-4.67.1-py3-none-any.whl.metadata (57 kB)\n",
      "\u001b[2K     \u001b[90m━━━━━━━━━━━━━━━━━━━━━━━━━━━━━━━━━━━━━━━━\u001b[0m \u001b[32m57.7/57.7 kB\u001b[0m \u001b[31m1.8 MB/s\u001b[0m eta \u001b[36m0:00:00\u001b[0m\n",
      "\u001b[?25hCollecting fsspec>=2023.5.0 (from huggingface-hub<1.0,>=0.23.2->transformers)\n",
      "  Downloading fsspec-2024.10.0-py3-none-any.whl.metadata (11 kB)\n",
      "Requirement already satisfied: typing-extensions>=3.7.4.3 in /storage/group/tvq5043/default/env/lib/python3.11/site-packages (from huggingface-hub<1.0,>=0.23.2->transformers) (4.12.2)\n",
      "Requirement already satisfied: charset-normalizer<4,>=2 in /storage/group/tvq5043/default/env/lib/python3.11/site-packages (from requests->transformers) (3.3.2)\n",
      "Requirement already satisfied: idna<4,>=2.5 in /storage/group/tvq5043/default/env/lib/python3.11/site-packages (from requests->transformers) (3.7)\n",
      "Requirement already satisfied: urllib3<3,>=1.21.1 in /storage/group/tvq5043/default/env/lib/python3.11/site-packages (from requests->transformers) (2.2.1)\n",
      "Requirement already satisfied: certifi>=2017.4.17 in /storage/group/tvq5043/default/env/lib/python3.11/site-packages (from requests->transformers) (2024.6.2)\n",
      "Downloading transformers-4.46.3-py3-none-any.whl (10.0 MB)\n",
      "\u001b[2K   \u001b[90m━━━━━━━━━━━━━━━━━━━━━━━━━━━━━━━━━━━━━━━━\u001b[0m \u001b[32m10.0/10.0 MB\u001b[0m \u001b[31m74.5 MB/s\u001b[0m eta \u001b[36m0:00:00\u001b[0m:00:01\u001b[0m0:01\u001b[0m\n",
      "\u001b[?25hDownloading huggingface_hub-0.26.3-py3-none-any.whl (447 kB)\n",
      "\u001b[2K   \u001b[90m━━━━━━━━━━━━━━━━━━━━━━━━━━━━━━━━━━━━━━━━\u001b[0m \u001b[32m447.6/447.6 kB\u001b[0m \u001b[31m14.3 MB/s\u001b[0m eta \u001b[36m0:00:00\u001b[0m\n",
      "\u001b[?25hDownloading regex-2024.11.6-cp311-cp311-manylinux_2_17_x86_64.manylinux2014_x86_64.whl (792 kB)\n",
      "\u001b[2K   \u001b[90m━━━━━━━━━━━━━━━━━━━━━━━━━━━━━━━━━━━━━━━━\u001b[0m \u001b[32m792.7/792.7 kB\u001b[0m \u001b[31m27.7 MB/s\u001b[0m eta \u001b[36m0:00:00\u001b[0m\n",
      "\u001b[?25hDownloading safetensors-0.4.5-cp311-cp311-manylinux_2_17_x86_64.manylinux2014_x86_64.whl (435 kB)\n",
      "\u001b[2K   \u001b[90m━━━━━━━━━━━━━━━━━━━━━━━━━━━━━━━━━━━━━━━━\u001b[0m \u001b[32m435.0/435.0 kB\u001b[0m \u001b[31m13.3 MB/s\u001b[0m eta \u001b[36m0:00:00\u001b[0m\n",
      "\u001b[?25hDownloading tokenizers-0.20.3-cp311-cp311-manylinux_2_17_x86_64.manylinux2014_x86_64.whl (3.0 MB)\n",
      "\u001b[2K   \u001b[90m━━━━━━━━━━━━━━━━━━━━━━━━━━━━━━━━━━━━━━━━\u001b[0m \u001b[32m3.0/3.0 MB\u001b[0m \u001b[31m61.5 MB/s\u001b[0m eta \u001b[36m0:00:00\u001b[0m:00:01\u001b[0m\n",
      "\u001b[?25hDownloading tqdm-4.67.1-py3-none-any.whl (78 kB)\n",
      "\u001b[2K   \u001b[90m━━━━━━━━━━━━━━━━━━━━━━━━━━━━━━━━━━━━━━━━\u001b[0m \u001b[32m78.5/78.5 kB\u001b[0m \u001b[31m3.1 MB/s\u001b[0m eta \u001b[36m0:00:00\u001b[0m\n",
      "\u001b[?25hDownloading fsspec-2024.10.0-py3-none-any.whl (179 kB)\n",
      "\u001b[2K   \u001b[90m━━━━━━━━━━━━━━━━━━━━━━━━━━━━━━━━━━━━━━━━\u001b[0m \u001b[32m179.6/179.6 kB\u001b[0m \u001b[31m7.9 MB/s\u001b[0m eta \u001b[36m0:00:00\u001b[0m\n",
      "\u001b[?25hInstalling collected packages: tqdm, safetensors, regex, fsspec, huggingface-hub, tokenizers, transformers\n",
      "Successfully installed fsspec-2024.10.0 huggingface-hub-0.26.3 regex-2024.11.6 safetensors-0.4.5 tokenizers-0.20.3 tqdm-4.67.1 transformers-4.46.3\n"
     ]
    }
   ],
   "source": [
    "!pip install transformers"
   ]
  },
  {
   "cell_type": "markdown",
   "id": "0c8d7fa3-4343-402a-91db-874144c915a2",
   "metadata": {},
   "source": [
    "## IMPORT"
   ]
  },
  {
   "cell_type": "code",
   "execution_count": 1,
   "id": "d2b6120f-f1ba-4286-a3ec-f1f7083ef0d1",
   "metadata": {},
   "outputs": [],
   "source": [
    "import os\n",
    "import re\n",
    "import numpy as np\n",
    "from types import NoneType\n",
    "from collections import OrderedDict\n",
    "from pathlib import Path\n",
    "import torch\n",
    "import torch.nn as nn\n",
    "from torch.nn import functional as F\n",
    "from torch.utils.data import Dataset, DataLoader\n",
    "import torch.utils.data \n",
    "from torchvision import transforms, datasets, models\n",
    "import torch.optim.lr_scheduler as lr_scheduler\n",
    "from torch.utils.data import DataLoader, Subset\n",
    "from sklearn.model_selection import train_test_split\n",
    "import tifffile \n",
    "import matplotlib.pyplot as plt"
   ]
  },
  {
   "cell_type": "code",
   "execution_count": 2,
   "id": "afb86bf7-e901-46e1-abee-176fbd0b114a",
   "metadata": {},
   "outputs": [],
   "source": [
    "#Setting GPU acceleration \n",
    "device = torch.device('cuda' if torch.cuda.is_available() else 'cpu')\n"
   ]
  },
  {
   "cell_type": "markdown",
   "id": "53ec3d39-da8e-4b26-a327-bac52e6babdb",
   "metadata": {},
   "source": [
    "## Preprocessing"
   ]
  },
  {
   "cell_type": "code",
   "execution_count": 3,
   "id": "560f4771-f242-4977-875c-8c00529dbae8",
   "metadata": {},
   "outputs": [],
   "source": [
    "\n",
    "\n",
    "params = {'TARGET_DIR' : '/storage/group/tvq5043/default/Shiqi/New_Training_Data',\n",
    "    'PATTERN' : r'5m',\n",
    "    'HEIGTH' : 10,\n",
    "    'WIDTH' : 10,\n",
    "    'BANDS' : 48,\n",
    "          #the size of the batch for the neural network\n",
    "    'batch_size' : 5\n",
    "    }\n",
    "#path to the folder for create the augmented dataset\n",
    "dest='./dataset'"
   ]
  },
  {
   "cell_type": "code",
   "execution_count": 4,
   "id": "64447fc1-9079-473d-b212-375b083e9b16",
   "metadata": {},
   "outputs": [],
   "source": [
    "#name_dict allows species merging (Key:Value pair where key is Original Specie and pair the new specie) \n",
    "\n",
    "name_dict={'Quercus rubra':'Quercus','Quercus alba':'Quercus','Acer rubrum':'Acer', \n",
    "           'Carya glabra':'Carya','Pinus strobus':'Pinus', 'Tsuga canadensis':'Tsuga',\n",
    "           'Acer saccharum':'Acer','Quercus montana':'Quercus', 'Carya tormentosa': 'Carya',\n",
    "           'Quercus velutina':'Quercus', 'Pinus virginiana':'Pinus', 'Carya ovata':'Carya',\n",
    "            'Carya spp.':'Carya','Quercus velatina':'Quercus','Quercus coccinea':'Quercus',\n",
    "           'Acer pennsylvanicum':'Acer', 'Pinus pungens':'Pinus'}\n",
    "           \n",
    "\n",
    "list_of_tree = list(set(name_dict.values()))"
   ]
  },
  {
   "cell_type": "code",
   "execution_count": 5,
   "id": "06228f52-7d6a-495e-9630-369af58f5135",
   "metadata": {},
   "outputs": [],
   "source": [
    "# Search in the target directory and all subdirectories for files that matches the pattern\n",
    "\n",
    "#create a list of tree with all the paths to the images\n",
    "tree_counts = {\n",
    "    \"Acer\" : 0,\n",
    "    \"Carya\" : 0,\n",
    "    \"Pinus\" : 0,\n",
    "    \"Quercus\" : 0,\n",
    "    \"Tsuga\" : 0,\n",
    "    None : 0\n",
    "}\n",
    "for dir_, _, filenames in os.walk(params['TARGET_DIR']):\n",
    "    for filename in filenames:\n",
    "        name=filename.split('/')[-1].split('_')[0]\n",
    "        name =name_dict.get(name)\n",
    "        tree_counts[name] = tree_counts[name] + 1"
   ]
  },
  {
   "cell_type": "code",
   "execution_count": 6,
   "id": "dd7f9439-abe4-4392-a1f4-dbad1eb8fdca",
   "metadata": {},
   "outputs": [
    {
     "data": {
      "text/plain": [
       "{'Acer': 105,\n",
       " 'Carya': 112,\n",
       " 'Pinus': 73,\n",
       " 'Quercus': 264,\n",
       " 'Tsuga': 42,\n",
       " None: 223}"
      ]
     },
     "execution_count": 6,
     "metadata": {},
     "output_type": "execute_result"
    }
   ],
   "source": [
    "tree_counts"
   ]
  },
  {
   "cell_type": "code",
   "execution_count": 7,
   "id": "fc0a89a5-8ea0-465e-83ae-c213c3ea9da0",
   "metadata": {},
   "outputs": [],
   "source": [
    "list_of_image=[]\n",
    "\n",
    "for dir_, _, filenames in os.walk(params['TARGET_DIR']):\n",
    "    for filename in filenames:\n",
    "        name=filename.split('/')[-1].split('_')[0]\n",
    "        name =name_dict.get(name)\n",
    "        repeat = 1\n",
    "        if name == \"Acer\" or name == \"Carya\":\n",
    "            repeat *= 2\n",
    "        elif name == \"Pinus\":\n",
    "            repeat *= 3\n",
    "        elif name == \"Tsuga\":\n",
    "            repeat *= 6\n",
    "    \n",
    "        if re.search(params['PATTERN'], filename) and name in list_of_tree:\n",
    "        \n",
    "            abspath = os.path.join(dir_, filename)\n",
    "            for i in range(repeat):\n",
    "                list_of_image.append(abspath)\n",
    "        else:\n",
    "            pass"
   ]
  },
  {
   "cell_type": "code",
   "execution_count": 8,
   "id": "caba17b3-4412-4787-9adf-03f9cb81beb8",
   "metadata": {},
   "outputs": [
    {
     "data": {
      "text/plain": [
       "1169"
      ]
     },
     "execution_count": 8,
     "metadata": {},
     "output_type": "execute_result"
    }
   ],
   "source": [
    "len(list_of_image)"
   ]
  },
  {
   "cell_type": "code",
   "execution_count": 28,
   "id": "1fed38ae-fe90-4b4a-8108-0825bc8bc87f",
   "metadata": {
    "collapsed": true,
    "jupyter": {
     "outputs_hidden": true,
     "source_hidden": true
    }
   },
   "outputs": [
    {
     "data": {
      "text/plain": [
       "array([[[   0.     ,    0.     ,    0.     , ...,    0.     ,\n",
       "            0.     ,    0.     ],\n",
       "        [   0.     ,    0.     ,    0.     , ...,    0.     ,\n",
       "            0.     ,    0.     ],\n",
       "        [   0.     ,    0.     ,    0.     , ...,    0.     ,\n",
       "            0.     ,    0.     ],\n",
       "        ...,\n",
       "        [   0.     ,    0.     ,    0.     , ...,    0.     ,\n",
       "            0.     ,    0.     ],\n",
       "        [   0.     ,    0.     ,    0.     , ...,    0.     ,\n",
       "            0.     ,    0.     ],\n",
       "        [   0.     ,    0.     ,    0.     , ...,    0.     ,\n",
       "            0.     ,    0.     ]],\n",
       "\n",
       "       [[   0.     ,    0.     ,    0.     , ...,    0.     ,\n",
       "            0.     ,    0.     ],\n",
       "        [ 326.65244,  326.52814,  331.4819 , ..., 5918.7954 ,\n",
       "         6039.567  , 6054.9355 ],\n",
       "        [ 274.7846 ,  281.78635,  302.73212, ..., 6282.791  ,\n",
       "         6453.418  , 6476.097  ],\n",
       "        ...,\n",
       "        [ 128.3568 ,  140.26053,  164.63579, ..., 3423.2078 ,\n",
       "         3580.7195 , 3601.7073 ],\n",
       "        [ 152.61044,  161.66916,  181.70262, ..., 3750.204  ,\n",
       "         3886.9856 , 3905.6726 ],\n",
       "        [   0.     ,    0.     ,    0.     , ...,    0.     ,\n",
       "            0.     ,    0.     ]],\n",
       "\n",
       "       [[   0.     ,    0.     ,    0.     , ...,    0.     ,\n",
       "            0.     ,    0.     ],\n",
       "        [ 273.40326,  277.7904 ,  289.0797 , ..., 5242.1597 ,\n",
       "         5341.7124 , 5353.8057 ],\n",
       "        [ 235.78479,  248.96898,  284.0066 , ..., 6226.066  ,\n",
       "         6372.8984 , 6393.108  ],\n",
       "        ...,\n",
       "        [ 129.83896,  139.9698 ,  163.68042, ..., 4001.456  ,\n",
       "         4208.185  , 4236.732  ],\n",
       "        [ 177.16238,  182.05435,  194.44525, ..., 4232.4893 ,\n",
       "         4399.221  , 4422.3345 ],\n",
       "        [   0.     ,    0.     ,    0.     , ...,    0.     ,\n",
       "            0.     ,    0.     ]],\n",
       "\n",
       "       ...,\n",
       "\n",
       "       [[   0.     ,    0.     ,    0.     , ...,    0.     ,\n",
       "            0.     ,    0.     ],\n",
       "        [ 294.57855,  290.60013,  292.29984, ..., 5806.6    ,\n",
       "         5928.0273 , 5945.028  ],\n",
       "        [ 238.38596,  247.02989,  279.23502, ..., 6518.125  ,\n",
       "         6704.1313 , 6727.6025 ],\n",
       "        ...,\n",
       "        [ 232.83199,  241.17203,  281.045  , ..., 8085.5557 ,\n",
       "         8335.655  , 8370.697  ],\n",
       "        [ 231.192  ,  236.04012,  265.40753, ..., 7929.5503 ,\n",
       "         8218.293  , 8256.049  ],\n",
       "        [   0.     ,    0.     ,    0.     , ...,    0.     ,\n",
       "            0.     ,    0.     ]],\n",
       "\n",
       "       [[   0.     ,    0.     ,    0.     , ...,    0.     ,\n",
       "            0.     ,    0.     ],\n",
       "        [ 196.54527,  206.74538,  243.95105, ..., 5674.238  ,\n",
       "         5845.41   , 5869.3755 ],\n",
       "        [ 219.62866,  234.94656,  287.21518, ..., 6803.4985 ,\n",
       "         6934.6777 , 6952.053  ],\n",
       "        ...,\n",
       "        [ 235.88232,  243.8929 ,  286.99728, ..., 8370.528  ,\n",
       "         8616.549  , 8650.074  ],\n",
       "        [ 294.7043 ,  292.2071 ,  310.39755, ..., 8009.4688 ,\n",
       "         8186.2783 , 8209.159  ],\n",
       "        [   0.     ,    0.     ,    0.     , ...,    0.     ,\n",
       "            0.     ,    0.     ]],\n",
       "\n",
       "       [[   0.     ,    0.     ,    0.     , ...,    0.     ,\n",
       "            0.     ,    0.     ],\n",
       "        [   0.     ,    0.     ,    0.     , ...,    0.     ,\n",
       "            0.     ,    0.     ],\n",
       "        [   0.     ,    0.     ,    0.     , ...,    0.     ,\n",
       "            0.     ,    0.     ],\n",
       "        ...,\n",
       "        [   0.     ,    0.     ,    0.     , ...,    0.     ,\n",
       "            0.     ,    0.     ],\n",
       "        [   0.     ,    0.     ,    0.     , ...,    0.     ,\n",
       "            0.     ,    0.     ],\n",
       "        [   0.     ,    0.     ,    0.     , ...,    0.     ,\n",
       "            0.     ,    0.     ]]], dtype=float32)"
      ]
     },
     "execution_count": 28,
     "metadata": {},
     "output_type": "execute_result"
    }
   ],
   "source": [
    "from scipy.ndimage import rotate\n",
    "\n",
    "arr = tifffile.imread(list_of_image[0]) \n",
    "rotated = rotate(arr, angle=5)\n",
    "rotated"
   ]
  },
  {
   "cell_type": "code",
   "execution_count": 9,
   "id": "51eeb864-d27c-4b9b-b5db-1fe69afc10d7",
   "metadata": {},
   "outputs": [],
   "source": [
    "#  data augmentation (3 rotation, 1flip followed by 3rotation) \n",
    "# dest folder to save images\n",
    "\n",
    "Path(dest).mkdir(parents=True, exist_ok=True)\n",
    "\n",
    "list_aug=[]\n",
    "for im in list_of_image:\n",
    "    arr = tifffile.imread(im) \n",
    "    arr = np.rot90(arr, k=1, axes=(0, 1))\n",
    "    name = im.split('/')[-1]+ '_' + 'rot90'\n",
    "    tifffile.imwrite(os.path.join(dest,name), arr)\n",
    "    list_aug.append(os.path.join(dest,name))\n",
    "    \n",
    "    arr = tifffile.imread(im) \n",
    "    arr = np.rot90(arr, k=2, axes=(0, 1))\n",
    "    name = im.split('/')[-1] +'_' + 'rot180'\n",
    "    tifffile.imwrite(os.path.join(dest,name), arr)\n",
    "    list_aug.append(os.path.join(dest,name))\n",
    "\n",
    "    arr = tifffile.imread(im) \n",
    "    arr = np.rot90(arr, k=3, axes=(0, 1))\n",
    "    name = im.split('/')[-1] +'_' + 'rot270'\n",
    "    tifffile.imwrite(os.path.join(dest,name), arr)\n",
    "    list_aug.append(os.path.join(dest,name))\n",
    "\n",
    "    arr = tifffile.imread(im)\n",
    "    arr = np .flip (arr, axis=0)\n",
    "    name = im.split('/')[-1]+ '_' + 'flip'\n",
    "    tifffile.imwrite(os.path.join(dest,name), arr)\n",
    "    list_aug.append(os.path.join(dest,name))\n",
    "\n",
    "    arr = tifffile.imread(im)\n",
    "    arr = np .flip (arr, axis=0)\n",
    "    arr = np.rot90(arr, k=1, axes=(0, 1))\n",
    "    name =  im.split('/')[-1]+ '_' + 'flip90'\n",
    "    tifffile.imwrite(os.path.join(dest,name), arr)\n",
    "    list_aug.append(os.path.join(dest,name))\n",
    "\n",
    "    arr = tifffile.imread(im)\n",
    "    arr = np .flip (arr, axis=0)\n",
    "    arr = np.rot90(arr, k=2, axes=(0, 1))\n",
    "    name = im.split('/')[-1] + '_' + 'flip180'\n",
    "    tifffile.imwrite(os.path.join(dest,name), arr)\n",
    "    list_aug.append(os.path.join(dest,name))\n",
    "\n",
    "    arr = tifffile.imread(im)\n",
    "    arr = np .flip (arr, axis=0)\n",
    "    arr = np.rot90(arr, k=3, axes=(0, 1))\n",
    "    name = im.split('/')[-1]+ '_' + 'flip270'\n",
    "    tifffile.imwrite(os.path.join(dest,name), arr)\n",
    "    list_aug.append(os.path.join(dest,name))"
   ]
  },
  {
   "cell_type": "code",
   "execution_count": 10,
   "id": "a7348827-d96f-4dfb-9143-41aeda718687",
   "metadata": {},
   "outputs": [],
   "source": [
    "#list all tree species based on names, count the number of different species\n",
    "\n",
    "tree_specie =set()\n",
    "\n",
    "for im in list_of_image:\n",
    "    specie = im.split('/')[-1].split('_')[0]\n",
    "    specie =name_dict.get(specie)\n",
    "    tree_specie.add(specie)\n",
    "\n",
    "number_of_tree=len(tree_specie)\n",
    "\n",
    "# assign a number to the different specie for the classification \n",
    "\n",
    "dict_tree={}\n",
    "for index,tree in enumerate(list(tree_specie)):\n",
    "    dict_tree[tree]=index \n",
    "\n"
   ]
  },
  {
   "cell_type": "code",
   "execution_count": 11,
   "id": "db20167a-eca7-4154-8b49-abc8678b5723",
   "metadata": {},
   "outputs": [],
   "source": [
    "#Normalization create a numpy array and get some statistics \n",
    "raw=[]\n",
    "for im in list_of_image:\n",
    "    arr = tifffile.imread(im)\n",
    "    arr = arr [:,:,:]\n",
    "    assert arr.shape == (params['HEIGTH'],params['WIDTH'],params['BANDS'])\n",
    "           \n",
    "    raw.append(arr)\n",
    "image=np.ravel(raw).reshape(-1,params['HEIGTH'],params['WIDTH'],params['BANDS'])\n",
    "\n",
    "mean, std = np.mean(image,axis=(0,1,2)), np.std(image,axis=(0,1,2))\n",
    "\n",
    "data_transforms = transforms.Compose([\n",
    "    transforms.ToTensor(),\n",
    "    transforms.Normalize(mean=mean, std=std)\n",
    "])\n"
   ]
  },
  {
   "cell_type": "code",
   "execution_count": 12,
   "id": "171a5f25-4e25-4612-b7c7-443f38b353b6",
   "metadata": {},
   "outputs": [],
   "source": [
    "# Create the datloader Subclass torch.utils.data.Dataset \n",
    "class ImageFolderCustom(Dataset):\n",
    "    \n",
    "    # 2. Initialize with a targ_dir and transform (optional) parameter\n",
    "    def __init__(self, targ_list , specie_dict ,  transform=None) -> None:\n",
    "        \n",
    "        # 3. Create class attributes\n",
    "        self.targ_list = targ_list\n",
    "        self.specie_dict = specie_dict\n",
    "        \n",
    "        self.transform = transform\n",
    "\n",
    "    # 4. Make function to load images\n",
    "    def load_image(self, index: int):\n",
    "        \"Opens an image via a path and returns it.\"\n",
    "        image_path = self.targ_list[index]\n",
    "        return tifffile.imread(image_path) [:,:,:]\n",
    "        \n",
    "    def get_label(self, index: int):\n",
    "        name_dict={'Quercus rubra':'Quercus','Quercus alba':'Quercus','Acer rubrum':'Acer', \n",
    "           'Carya glabra':'Carya','Pinus strobus':'Pinus', 'Tsuga canadensis':'Tsuga',\n",
    "           'Acer saccharum':'Acer','Quercus montana':'Quercus', 'Carya tormentosa': 'Carya',\n",
    "           'Quercus velutina':'Quercus', 'Pinus virginiana':'Pinus', 'Carya ovata':'Carya',\n",
    "            'Carya spp.':'Carya','Quercus velatina':'Quercus','Quercus coccinea':'Quercus',\n",
    "           'Acer pennsylvanicum':'Acer', 'Pinus pungens':'Pinus'}\n",
    "\n",
    "        name = self.targ_list[index]\n",
    "        specie = name.split('/')[-1].split('_')[0]\n",
    "        specie = name_dict.get(specie)\n",
    " #       return self.one_hot[self.specie_dict[specie]]\n",
    "        return self.specie_dict[specie]\n",
    "    \n",
    "    # 5. Overwrite the __len__() method (optional but recommended for subclasses of torch.utils.data.Dataset)\n",
    "    def __len__(self) -> int:\n",
    "        \"Returns the total number of samples.\"\n",
    "        return len(self.targ_list)\n",
    "    \n",
    "    # 6. Overwrite the __getitem__() method (required for subclasses of torch.utils.data.Dataset)\n",
    "    def __getitem__(self, index: int):\n",
    "        \"Returns one sample of data, data and label (X, y).\"\n",
    "        img = self.load_image(index)\n",
    "        class_idx = self.get_label(index)\n",
    "     \n",
    "        # Transform if necessary\n",
    "        if self.transform:\n",
    "            return self.transform(img), class_idx # return data, label (X, y)\n",
    "        else:\n",
    "            return img, class_idx # return data, label (X, y)"
   ]
  },
  {
   "cell_type": "code",
   "execution_count": 13,
   "id": "d8ac7bba-922c-4bc8-b96a-2e86aa7aae2c",
   "metadata": {},
   "outputs": [],
   "source": [
    "\n",
    "# instantiate the dataloader with the images \n",
    "list_final = list_of_image  + list_aug\n",
    "dataset=ImageFolderCustom(list_final,dict_tree,data_transforms)\n",
    "\n",
    "# size of the validation dataset\n",
    "TEST_SIZE = 0.1\n",
    "SEED = 42\n",
    "\n",
    "# generate list of labels for stratified train/test split\n",
    "target_list=[]\n",
    "for i in range(len(dataset)):\n",
    "    target_list.append(dataset[i][1])\n",
    "    \n",
    "\n",
    "\n",
    "\n",
    "train_idx, validation_idx = train_test_split(np.arange(len(dataset)),\n",
    "                                             test_size=TEST_SIZE,\n",
    "                                             random_state=SEED,\n",
    "                                             shuffle=True,\n",
    "                                             stratify=target_list)\n",
    "\n",
    "# Subset dataset for train and val\n",
    "train_dataset = Subset(dataset, train_idx)\n",
    "validation_dataset = Subset(dataset, validation_idx)\n",
    "\n",
    "# Dataloader for train and val\n",
    "train_loader = DataLoader(train_dataset, batch_size=params['batch_size'], shuffle=True)\n",
    "validation_loader = DataLoader(validation_dataset, batch_size=params['batch_size'], shuffle=False)\n",
    "\n"
   ]
  },
  {
   "cell_type": "markdown",
   "id": "0de738eb-502a-4134-bba7-e3a4d09053bd",
   "metadata": {},
   "source": [
    "## Model"
   ]
  },
  {
   "cell_type": "code",
   "execution_count": 14,
   "id": "240c9a10-e452-4d87-a784-2e2b14e4fc35",
   "metadata": {},
   "outputs": [
    {
     "data": {
      "text/plain": [
       "torch.Size([5, 5])"
      ]
     },
     "execution_count": 14,
     "metadata": {},
     "output_type": "execute_result"
    }
   ],
   "source": [
    "# definition of the model\n",
    "    #nn.MaxPool3d(3, stride=1),\n",
    "\n",
    "# Adjusted 3D CNN Architecture\n",
    "m = nn.Sequential(\n",
    "    # Block 1\n",
    "    nn.Conv3d(1, 16, kernel_size=3, stride=1, padding=1),  # Increased filters\n",
    "    nn.BatchNorm3d(16),\n",
    "    nn.ReLU(),\n",
    "    nn.MaxPool3d(kernel_size=2, stride=2, padding=0),  # Ensure dimensions remain positive\n",
    "    \n",
    "    # Block 2\n",
    "    nn.Conv3d(16, 32, kernel_size=3, stride=1, padding=1),  # Deeper filters\n",
    "    nn.BatchNorm3d(32),\n",
    "    nn.ReLU(),\n",
    "    nn.MaxPool3d(kernel_size=2, stride=2, padding=0),\n",
    "    \n",
    "    # Block 3\n",
    "    nn.Conv3d(32, 64, kernel_size=3, stride=1, padding=1),\n",
    "    nn.BatchNorm3d(64),\n",
    "    nn.ReLU(),\n",
    "    nn.MaxPool3d(kernel_size=2, stride=1, padding=0),  # Adjust stride and kernel size to prevent collapse\n",
    "    \n",
    "    # Block 4 (optional for deeper network)\n",
    "    nn.Conv3d(64, 128, kernel_size=3, stride=1, padding=1),\n",
    "    nn.BatchNorm3d(128),\n",
    "    nn.ReLU(),\n",
    "    nn.AdaptiveAvgPool3d((1, 1, 1)),  # Ensure a fixed output size\n",
    "    \n",
    "    # Flatten and Fully Connected Layers\n",
    "    nn.Flatten(),\n",
    "    nn.Linear(128, 64),  # Reduced dimension for better generalization\n",
    "    nn.ReLU(),\n",
    "    nn.Dropout(0.1),  # Regularization\n",
    "    nn.Linear(64, 5)  # Output layer with 5 classes\n",
    ")\n",
    "\n",
    "# example for propagating a tensor through the network\n",
    "input = torch.randn(5, 48, 10, 10)\n",
    "input=torch.unsqueeze(input,1)\n",
    "\n",
    "output = m(input)\n",
    "output.shape"
   ]
  },
  {
   "cell_type": "code",
   "execution_count": 15,
   "id": "cff78a96-3a49-4c99-902b-86397e113864",
   "metadata": {},
   "outputs": [
    {
     "name": "stdout",
     "output_type": "stream",
     "text": [
      "torch.Size([5, 5])\n"
     ]
    }
   ],
   "source": [
    "# Vision Transformer Test\n",
    "class PatchEmbedding3D(nn.Module):\n",
    "    def __init__(self, in_channels, patch_size, embed_dim):\n",
    "        super().__init__()\n",
    "        self.patch_size = patch_size\n",
    "        self.projection = nn.Conv3d(\n",
    "            in_channels, embed_dim, kernel_size=patch_size, stride=patch_size\n",
    "        )\n",
    "    \n",
    "    def forward(self, x):\n",
    "        # Shape: [batch_size, embed_dim, depth//patch_size, height//patch_size, width//patch_size]\n",
    "        x = self.projection(x)  # Project patches into embeddings\n",
    "        x = x.flatten(2)        # Flatten spatial dimensions\n",
    "        x = x.transpose(1, 2)   # Shape: [batch_size, num_patches, embed_dim]\n",
    "        return x\n",
    "\n",
    "class TransformerEncoderLayer(nn.Module):\n",
    "    def __init__(self, embed_dim, num_heads, mlp_dim, dropout=0.1):\n",
    "        super().__init__()\n",
    "        self.self_attn = nn.MultiheadAttention(embed_dim, num_heads, dropout=dropout)\n",
    "        self.mlp = nn.Sequential(\n",
    "            nn.Linear(embed_dim, mlp_dim),\n",
    "            nn.GELU(),\n",
    "            nn.Dropout(dropout),\n",
    "            nn.Linear(mlp_dim, embed_dim),\n",
    "            nn.Dropout(dropout),\n",
    "        )\n",
    "        self.norm1 = nn.LayerNorm(embed_dim)\n",
    "        self.norm2 = nn.LayerNorm(embed_dim)\n",
    "\n",
    "    def forward(self, x):\n",
    "        # Self-attention block\n",
    "        attn_out, _ = self.self_attn(x, x, x)  # Shape: [batch_size, num_patches, embed_dim]\n",
    "        x = x + attn_out\n",
    "        x = self.norm1(x)\n",
    "        \n",
    "        # Feed-forward block\n",
    "        mlp_out = self.mlp(x)\n",
    "        x = x + mlp_out\n",
    "        x = self.norm2(x)\n",
    "        return x\n",
    "\n",
    "class VisionTransformer3D(nn.Module):\n",
    "    def __init__(self, in_channels, num_classes, patch_size, embed_dim, depth, num_heads, mlp_dim, dropout=0.1):\n",
    "        super().__init__()\n",
    "        self.patch_embed = PatchEmbedding3D(in_channels, patch_size, embed_dim)\n",
    "        self.cls_token = nn.Parameter(torch.zeros(1, 1, embed_dim))  # Learnable [CLS] token\n",
    "        self.positional_encoding = nn.Parameter(\n",
    "            torch.zeros(1, 1 + (48 // patch_size) * (10 // patch_size) * (10 // patch_size), embed_dim)\n",
    "        )\n",
    "        self.encoder = nn.ModuleList(\n",
    "            [TransformerEncoderLayer(embed_dim, num_heads, mlp_dim, dropout) for _ in range(depth)]\n",
    "        )\n",
    "        self.cls_head = nn.Sequential(\n",
    "            nn.LayerNorm(embed_dim),\n",
    "            nn.Linear(embed_dim, num_classes),\n",
    "        )\n",
    "\n",
    "    def forward(self, x):\n",
    "        x = self.patch_embed(x)  # Patch embedding\n",
    "        batch_size, num_patches, _ = x.shape\n",
    "        \n",
    "        # Add [CLS] token\n",
    "        cls_tokens = self.cls_token.expand(batch_size, -1, -1)  # Shape: [batch_size, 1, embed_dim]\n",
    "        x = torch.cat((cls_tokens, x), dim=1)  # Shape: [batch_size, 1 + num_patches, embed_dim]\n",
    "        \n",
    "        # Add positional encoding\n",
    "        x = x + self.positional_encoding[:, : x.size(1), :]\n",
    "        \n",
    "        # Pass through transformer encoder\n",
    "        for layer in self.encoder:\n",
    "            x = layer(x)\n",
    "        \n",
    "        # Classification head\n",
    "        cls_output = x[:, 0]  # Take [CLS] token\n",
    "        out = self.cls_head(cls_output)\n",
    "        return out\n",
    "\n",
    "# Example Usage\n",
    "m = VisionTransformer3D(\n",
    "    in_channels=1,  # Single channel for grayscale\n",
    "    num_classes=5,  # Number of classes\n",
    "    patch_size=4,   # Divide 3D volume into (4x4x4) patches\n",
    "    embed_dim=128,  # Embedding dimension for each patch\n",
    "    depth=6,        # Number of transformer layers\n",
    "    num_heads=8,    # Number of attention heads\n",
    "    mlp_dim=256,    # Dimension of MLP hidden layer\n",
    "    dropout=0.1     # Dropout for regularization\n",
    ")\n",
    "\n",
    "# Test input\n",
    "input = torch.randn(5, 1, 48, 10, 10)  # Batch of 5, single channel, depth=48, height=10, width=10\n",
    "output = m(input)\n",
    "print(output.shape)  # Output: [5, 5]\n"
   ]
  },
  {
   "cell_type": "code",
   "execution_count": 15,
   "id": "c637149f-8f81-4fd0-a8a2-1b9b67aa6ca1",
   "metadata": {},
   "outputs": [
    {
     "name": "stderr",
     "output_type": "stream",
     "text": [
      "/storage/group/tvq5043/default/env/lib/python3.11/site-packages/tqdm/auto.py:21: TqdmWarning: IProgress not found. Please update jupyter and ipywidgets. See https://ipywidgets.readthedocs.io/en/stable/user_install.html\n",
      "  from .autonotebook import tqdm as notebook_tqdm\n"
     ]
    },
    {
     "ename": "ValueError",
     "evalue": "too many values to unpack (expected 4)",
     "output_type": "error",
     "traceback": [
      "\u001b[0;31m---------------------------------------------------------------------------\u001b[0m",
      "\u001b[0;31mValueError\u001b[0m                                Traceback (most recent call last)",
      "Cell \u001b[0;32mIn[15], line 6\u001b[0m\n\u001b[1;32m      4\u001b[0m \u001b[38;5;66;03m# Test input\u001b[39;00m\n\u001b[1;32m      5\u001b[0m \u001b[38;5;28minput\u001b[39m \u001b[38;5;241m=\u001b[39m torch\u001b[38;5;241m.\u001b[39mrandn(\u001b[38;5;241m5\u001b[39m, \u001b[38;5;241m1\u001b[39m, \u001b[38;5;241m48\u001b[39m, \u001b[38;5;241m10\u001b[39m, \u001b[38;5;241m10\u001b[39m)  \u001b[38;5;66;03m# Batch of 5, single channel, depth=48, height=10, width=10\u001b[39;00m\n\u001b[0;32m----> 6\u001b[0m output \u001b[38;5;241m=\u001b[39m \u001b[43mm\u001b[49m\u001b[43m(\u001b[49m\u001b[38;5;28;43minput\u001b[39;49m\u001b[43m)\u001b[49m\n\u001b[1;32m      7\u001b[0m \u001b[38;5;28mprint\u001b[39m(output\u001b[38;5;241m.\u001b[39mshape)  \u001b[38;5;66;03m# Output: [5, 5]\u001b[39;00m\n",
      "File \u001b[0;32m/storage/group/tvq5043/default/env/lib/python3.11/site-packages/torch/nn/modules/module.py:1532\u001b[0m, in \u001b[0;36mModule._wrapped_call_impl\u001b[0;34m(self, *args, **kwargs)\u001b[0m\n\u001b[1;32m   1530\u001b[0m     \u001b[38;5;28;01mreturn\u001b[39;00m \u001b[38;5;28mself\u001b[39m\u001b[38;5;241m.\u001b[39m_compiled_call_impl(\u001b[38;5;241m*\u001b[39margs, \u001b[38;5;241m*\u001b[39m\u001b[38;5;241m*\u001b[39mkwargs)  \u001b[38;5;66;03m# type: ignore[misc]\u001b[39;00m\n\u001b[1;32m   1531\u001b[0m \u001b[38;5;28;01melse\u001b[39;00m:\n\u001b[0;32m-> 1532\u001b[0m     \u001b[38;5;28;01mreturn\u001b[39;00m \u001b[38;5;28;43mself\u001b[39;49m\u001b[38;5;241;43m.\u001b[39;49m\u001b[43m_call_impl\u001b[49m\u001b[43m(\u001b[49m\u001b[38;5;241;43m*\u001b[39;49m\u001b[43margs\u001b[49m\u001b[43m,\u001b[49m\u001b[43m \u001b[49m\u001b[38;5;241;43m*\u001b[39;49m\u001b[38;5;241;43m*\u001b[39;49m\u001b[43mkwargs\u001b[49m\u001b[43m)\u001b[49m\n",
      "File \u001b[0;32m/storage/group/tvq5043/default/env/lib/python3.11/site-packages/torch/nn/modules/module.py:1541\u001b[0m, in \u001b[0;36mModule._call_impl\u001b[0;34m(self, *args, **kwargs)\u001b[0m\n\u001b[1;32m   1536\u001b[0m \u001b[38;5;66;03m# If we don't have any hooks, we want to skip the rest of the logic in\u001b[39;00m\n\u001b[1;32m   1537\u001b[0m \u001b[38;5;66;03m# this function, and just call forward.\u001b[39;00m\n\u001b[1;32m   1538\u001b[0m \u001b[38;5;28;01mif\u001b[39;00m \u001b[38;5;129;01mnot\u001b[39;00m (\u001b[38;5;28mself\u001b[39m\u001b[38;5;241m.\u001b[39m_backward_hooks \u001b[38;5;129;01mor\u001b[39;00m \u001b[38;5;28mself\u001b[39m\u001b[38;5;241m.\u001b[39m_backward_pre_hooks \u001b[38;5;129;01mor\u001b[39;00m \u001b[38;5;28mself\u001b[39m\u001b[38;5;241m.\u001b[39m_forward_hooks \u001b[38;5;129;01mor\u001b[39;00m \u001b[38;5;28mself\u001b[39m\u001b[38;5;241m.\u001b[39m_forward_pre_hooks\n\u001b[1;32m   1539\u001b[0m         \u001b[38;5;129;01mor\u001b[39;00m _global_backward_pre_hooks \u001b[38;5;129;01mor\u001b[39;00m _global_backward_hooks\n\u001b[1;32m   1540\u001b[0m         \u001b[38;5;129;01mor\u001b[39;00m _global_forward_hooks \u001b[38;5;129;01mor\u001b[39;00m _global_forward_pre_hooks):\n\u001b[0;32m-> 1541\u001b[0m     \u001b[38;5;28;01mreturn\u001b[39;00m \u001b[43mforward_call\u001b[49m\u001b[43m(\u001b[49m\u001b[38;5;241;43m*\u001b[39;49m\u001b[43margs\u001b[49m\u001b[43m,\u001b[49m\u001b[43m \u001b[49m\u001b[38;5;241;43m*\u001b[39;49m\u001b[38;5;241;43m*\u001b[39;49m\u001b[43mkwargs\u001b[49m\u001b[43m)\u001b[49m\n\u001b[1;32m   1543\u001b[0m \u001b[38;5;28;01mtry\u001b[39;00m:\n\u001b[1;32m   1544\u001b[0m     result \u001b[38;5;241m=\u001b[39m \u001b[38;5;28;01mNone\u001b[39;00m\n",
      "File \u001b[0;32m/storage/group/tvq5043/default/env/lib/python3.11/site-packages/transformers/models/vit/modeling_vit.py:856\u001b[0m, in \u001b[0;36mViTForImageClassification.forward\u001b[0;34m(self, pixel_values, head_mask, labels, output_attentions, output_hidden_states, interpolate_pos_encoding, return_dict)\u001b[0m\n\u001b[1;32m    848\u001b[0m \u001b[38;5;250m\u001b[39m\u001b[38;5;124mr\u001b[39m\u001b[38;5;124;03m\"\"\"\u001b[39;00m\n\u001b[1;32m    849\u001b[0m \u001b[38;5;124;03mlabels (`torch.LongTensor` of shape `(batch_size,)`, *optional*):\u001b[39;00m\n\u001b[1;32m    850\u001b[0m \u001b[38;5;124;03m    Labels for computing the image classification/regression loss. Indices should be in `[0, ...,\u001b[39;00m\n\u001b[1;32m    851\u001b[0m \u001b[38;5;124;03m    config.num_labels - 1]`. If `config.num_labels == 1` a regression loss is computed (Mean-Square loss), If\u001b[39;00m\n\u001b[1;32m    852\u001b[0m \u001b[38;5;124;03m    `config.num_labels > 1` a classification loss is computed (Cross-Entropy).\u001b[39;00m\n\u001b[1;32m    853\u001b[0m \u001b[38;5;124;03m\"\"\"\u001b[39;00m\n\u001b[1;32m    854\u001b[0m return_dict \u001b[38;5;241m=\u001b[39m return_dict \u001b[38;5;28;01mif\u001b[39;00m return_dict \u001b[38;5;129;01mis\u001b[39;00m \u001b[38;5;129;01mnot\u001b[39;00m \u001b[38;5;28;01mNone\u001b[39;00m \u001b[38;5;28;01melse\u001b[39;00m \u001b[38;5;28mself\u001b[39m\u001b[38;5;241m.\u001b[39mconfig\u001b[38;5;241m.\u001b[39muse_return_dict\n\u001b[0;32m--> 856\u001b[0m outputs \u001b[38;5;241m=\u001b[39m \u001b[38;5;28;43mself\u001b[39;49m\u001b[38;5;241;43m.\u001b[39;49m\u001b[43mvit\u001b[49m\u001b[43m(\u001b[49m\n\u001b[1;32m    857\u001b[0m \u001b[43m    \u001b[49m\u001b[43mpixel_values\u001b[49m\u001b[43m,\u001b[49m\n\u001b[1;32m    858\u001b[0m \u001b[43m    \u001b[49m\u001b[43mhead_mask\u001b[49m\u001b[38;5;241;43m=\u001b[39;49m\u001b[43mhead_mask\u001b[49m\u001b[43m,\u001b[49m\n\u001b[1;32m    859\u001b[0m \u001b[43m    \u001b[49m\u001b[43moutput_attentions\u001b[49m\u001b[38;5;241;43m=\u001b[39;49m\u001b[43moutput_attentions\u001b[49m\u001b[43m,\u001b[49m\n\u001b[1;32m    860\u001b[0m \u001b[43m    \u001b[49m\u001b[43moutput_hidden_states\u001b[49m\u001b[38;5;241;43m=\u001b[39;49m\u001b[43moutput_hidden_states\u001b[49m\u001b[43m,\u001b[49m\n\u001b[1;32m    861\u001b[0m \u001b[43m    \u001b[49m\u001b[43minterpolate_pos_encoding\u001b[49m\u001b[38;5;241;43m=\u001b[39;49m\u001b[43minterpolate_pos_encoding\u001b[49m\u001b[43m,\u001b[49m\n\u001b[1;32m    862\u001b[0m \u001b[43m    \u001b[49m\u001b[43mreturn_dict\u001b[49m\u001b[38;5;241;43m=\u001b[39;49m\u001b[43mreturn_dict\u001b[49m\u001b[43m,\u001b[49m\n\u001b[1;32m    863\u001b[0m \u001b[43m\u001b[49m\u001b[43m)\u001b[49m\n\u001b[1;32m    865\u001b[0m sequence_output \u001b[38;5;241m=\u001b[39m outputs[\u001b[38;5;241m0\u001b[39m]\n\u001b[1;32m    867\u001b[0m logits \u001b[38;5;241m=\u001b[39m \u001b[38;5;28mself\u001b[39m\u001b[38;5;241m.\u001b[39mclassifier(sequence_output[:, \u001b[38;5;241m0\u001b[39m, :])\n",
      "File \u001b[0;32m/storage/group/tvq5043/default/env/lib/python3.11/site-packages/torch/nn/modules/module.py:1532\u001b[0m, in \u001b[0;36mModule._wrapped_call_impl\u001b[0;34m(self, *args, **kwargs)\u001b[0m\n\u001b[1;32m   1530\u001b[0m     \u001b[38;5;28;01mreturn\u001b[39;00m \u001b[38;5;28mself\u001b[39m\u001b[38;5;241m.\u001b[39m_compiled_call_impl(\u001b[38;5;241m*\u001b[39margs, \u001b[38;5;241m*\u001b[39m\u001b[38;5;241m*\u001b[39mkwargs)  \u001b[38;5;66;03m# type: ignore[misc]\u001b[39;00m\n\u001b[1;32m   1531\u001b[0m \u001b[38;5;28;01melse\u001b[39;00m:\n\u001b[0;32m-> 1532\u001b[0m     \u001b[38;5;28;01mreturn\u001b[39;00m \u001b[38;5;28;43mself\u001b[39;49m\u001b[38;5;241;43m.\u001b[39;49m\u001b[43m_call_impl\u001b[49m\u001b[43m(\u001b[49m\u001b[38;5;241;43m*\u001b[39;49m\u001b[43margs\u001b[49m\u001b[43m,\u001b[49m\u001b[43m \u001b[49m\u001b[38;5;241;43m*\u001b[39;49m\u001b[38;5;241;43m*\u001b[39;49m\u001b[43mkwargs\u001b[49m\u001b[43m)\u001b[49m\n",
      "File \u001b[0;32m/storage/group/tvq5043/default/env/lib/python3.11/site-packages/torch/nn/modules/module.py:1541\u001b[0m, in \u001b[0;36mModule._call_impl\u001b[0;34m(self, *args, **kwargs)\u001b[0m\n\u001b[1;32m   1536\u001b[0m \u001b[38;5;66;03m# If we don't have any hooks, we want to skip the rest of the logic in\u001b[39;00m\n\u001b[1;32m   1537\u001b[0m \u001b[38;5;66;03m# this function, and just call forward.\u001b[39;00m\n\u001b[1;32m   1538\u001b[0m \u001b[38;5;28;01mif\u001b[39;00m \u001b[38;5;129;01mnot\u001b[39;00m (\u001b[38;5;28mself\u001b[39m\u001b[38;5;241m.\u001b[39m_backward_hooks \u001b[38;5;129;01mor\u001b[39;00m \u001b[38;5;28mself\u001b[39m\u001b[38;5;241m.\u001b[39m_backward_pre_hooks \u001b[38;5;129;01mor\u001b[39;00m \u001b[38;5;28mself\u001b[39m\u001b[38;5;241m.\u001b[39m_forward_hooks \u001b[38;5;129;01mor\u001b[39;00m \u001b[38;5;28mself\u001b[39m\u001b[38;5;241m.\u001b[39m_forward_pre_hooks\n\u001b[1;32m   1539\u001b[0m         \u001b[38;5;129;01mor\u001b[39;00m _global_backward_pre_hooks \u001b[38;5;129;01mor\u001b[39;00m _global_backward_hooks\n\u001b[1;32m   1540\u001b[0m         \u001b[38;5;129;01mor\u001b[39;00m _global_forward_hooks \u001b[38;5;129;01mor\u001b[39;00m _global_forward_pre_hooks):\n\u001b[0;32m-> 1541\u001b[0m     \u001b[38;5;28;01mreturn\u001b[39;00m \u001b[43mforward_call\u001b[49m\u001b[43m(\u001b[49m\u001b[38;5;241;43m*\u001b[39;49m\u001b[43margs\u001b[49m\u001b[43m,\u001b[49m\u001b[43m \u001b[49m\u001b[38;5;241;43m*\u001b[39;49m\u001b[38;5;241;43m*\u001b[39;49m\u001b[43mkwargs\u001b[49m\u001b[43m)\u001b[49m\n\u001b[1;32m   1543\u001b[0m \u001b[38;5;28;01mtry\u001b[39;00m:\n\u001b[1;32m   1544\u001b[0m     result \u001b[38;5;241m=\u001b[39m \u001b[38;5;28;01mNone\u001b[39;00m\n",
      "File \u001b[0;32m/storage/group/tvq5043/default/env/lib/python3.11/site-packages/transformers/models/vit/modeling_vit.py:635\u001b[0m, in \u001b[0;36mViTModel.forward\u001b[0;34m(self, pixel_values, bool_masked_pos, head_mask, output_attentions, output_hidden_states, interpolate_pos_encoding, return_dict)\u001b[0m\n\u001b[1;32m    632\u001b[0m \u001b[38;5;28;01mif\u001b[39;00m pixel_values\u001b[38;5;241m.\u001b[39mdtype \u001b[38;5;241m!=\u001b[39m expected_dtype:\n\u001b[1;32m    633\u001b[0m     pixel_values \u001b[38;5;241m=\u001b[39m pixel_values\u001b[38;5;241m.\u001b[39mto(expected_dtype)\n\u001b[0;32m--> 635\u001b[0m embedding_output \u001b[38;5;241m=\u001b[39m \u001b[38;5;28;43mself\u001b[39;49m\u001b[38;5;241;43m.\u001b[39;49m\u001b[43membeddings\u001b[49m\u001b[43m(\u001b[49m\n\u001b[1;32m    636\u001b[0m \u001b[43m    \u001b[49m\u001b[43mpixel_values\u001b[49m\u001b[43m,\u001b[49m\u001b[43m \u001b[49m\u001b[43mbool_masked_pos\u001b[49m\u001b[38;5;241;43m=\u001b[39;49m\u001b[43mbool_masked_pos\u001b[49m\u001b[43m,\u001b[49m\u001b[43m \u001b[49m\u001b[43minterpolate_pos_encoding\u001b[49m\u001b[38;5;241;43m=\u001b[39;49m\u001b[43minterpolate_pos_encoding\u001b[49m\n\u001b[1;32m    637\u001b[0m \u001b[43m\u001b[49m\u001b[43m)\u001b[49m\n\u001b[1;32m    639\u001b[0m encoder_outputs \u001b[38;5;241m=\u001b[39m \u001b[38;5;28mself\u001b[39m\u001b[38;5;241m.\u001b[39mencoder(\n\u001b[1;32m    640\u001b[0m     embedding_output,\n\u001b[1;32m    641\u001b[0m     head_mask\u001b[38;5;241m=\u001b[39mhead_mask,\n\u001b[0;32m   (...)\u001b[0m\n\u001b[1;32m    644\u001b[0m     return_dict\u001b[38;5;241m=\u001b[39mreturn_dict,\n\u001b[1;32m    645\u001b[0m )\n\u001b[1;32m    646\u001b[0m sequence_output \u001b[38;5;241m=\u001b[39m encoder_outputs[\u001b[38;5;241m0\u001b[39m]\n",
      "File \u001b[0;32m/storage/group/tvq5043/default/env/lib/python3.11/site-packages/torch/nn/modules/module.py:1532\u001b[0m, in \u001b[0;36mModule._wrapped_call_impl\u001b[0;34m(self, *args, **kwargs)\u001b[0m\n\u001b[1;32m   1530\u001b[0m     \u001b[38;5;28;01mreturn\u001b[39;00m \u001b[38;5;28mself\u001b[39m\u001b[38;5;241m.\u001b[39m_compiled_call_impl(\u001b[38;5;241m*\u001b[39margs, \u001b[38;5;241m*\u001b[39m\u001b[38;5;241m*\u001b[39mkwargs)  \u001b[38;5;66;03m# type: ignore[misc]\u001b[39;00m\n\u001b[1;32m   1531\u001b[0m \u001b[38;5;28;01melse\u001b[39;00m:\n\u001b[0;32m-> 1532\u001b[0m     \u001b[38;5;28;01mreturn\u001b[39;00m \u001b[38;5;28;43mself\u001b[39;49m\u001b[38;5;241;43m.\u001b[39;49m\u001b[43m_call_impl\u001b[49m\u001b[43m(\u001b[49m\u001b[38;5;241;43m*\u001b[39;49m\u001b[43margs\u001b[49m\u001b[43m,\u001b[49m\u001b[43m \u001b[49m\u001b[38;5;241;43m*\u001b[39;49m\u001b[38;5;241;43m*\u001b[39;49m\u001b[43mkwargs\u001b[49m\u001b[43m)\u001b[49m\n",
      "File \u001b[0;32m/storage/group/tvq5043/default/env/lib/python3.11/site-packages/torch/nn/modules/module.py:1541\u001b[0m, in \u001b[0;36mModule._call_impl\u001b[0;34m(self, *args, **kwargs)\u001b[0m\n\u001b[1;32m   1536\u001b[0m \u001b[38;5;66;03m# If we don't have any hooks, we want to skip the rest of the logic in\u001b[39;00m\n\u001b[1;32m   1537\u001b[0m \u001b[38;5;66;03m# this function, and just call forward.\u001b[39;00m\n\u001b[1;32m   1538\u001b[0m \u001b[38;5;28;01mif\u001b[39;00m \u001b[38;5;129;01mnot\u001b[39;00m (\u001b[38;5;28mself\u001b[39m\u001b[38;5;241m.\u001b[39m_backward_hooks \u001b[38;5;129;01mor\u001b[39;00m \u001b[38;5;28mself\u001b[39m\u001b[38;5;241m.\u001b[39m_backward_pre_hooks \u001b[38;5;129;01mor\u001b[39;00m \u001b[38;5;28mself\u001b[39m\u001b[38;5;241m.\u001b[39m_forward_hooks \u001b[38;5;129;01mor\u001b[39;00m \u001b[38;5;28mself\u001b[39m\u001b[38;5;241m.\u001b[39m_forward_pre_hooks\n\u001b[1;32m   1539\u001b[0m         \u001b[38;5;129;01mor\u001b[39;00m _global_backward_pre_hooks \u001b[38;5;129;01mor\u001b[39;00m _global_backward_hooks\n\u001b[1;32m   1540\u001b[0m         \u001b[38;5;129;01mor\u001b[39;00m _global_forward_hooks \u001b[38;5;129;01mor\u001b[39;00m _global_forward_pre_hooks):\n\u001b[0;32m-> 1541\u001b[0m     \u001b[38;5;28;01mreturn\u001b[39;00m \u001b[43mforward_call\u001b[49m\u001b[43m(\u001b[49m\u001b[38;5;241;43m*\u001b[39;49m\u001b[43margs\u001b[49m\u001b[43m,\u001b[49m\u001b[43m \u001b[49m\u001b[38;5;241;43m*\u001b[39;49m\u001b[38;5;241;43m*\u001b[39;49m\u001b[43mkwargs\u001b[49m\u001b[43m)\u001b[49m\n\u001b[1;32m   1543\u001b[0m \u001b[38;5;28;01mtry\u001b[39;00m:\n\u001b[1;32m   1544\u001b[0m     result \u001b[38;5;241m=\u001b[39m \u001b[38;5;28;01mNone\u001b[39;00m\n",
      "File \u001b[0;32m/storage/group/tvq5043/default/env/lib/python3.11/site-packages/transformers/models/vit/modeling_vit.py:123\u001b[0m, in \u001b[0;36mViTEmbeddings.forward\u001b[0;34m(self, pixel_values, bool_masked_pos, interpolate_pos_encoding)\u001b[0m\n\u001b[1;32m    117\u001b[0m \u001b[38;5;28;01mdef\u001b[39;00m \u001b[38;5;21mforward\u001b[39m(\n\u001b[1;32m    118\u001b[0m     \u001b[38;5;28mself\u001b[39m,\n\u001b[1;32m    119\u001b[0m     pixel_values: torch\u001b[38;5;241m.\u001b[39mTensor,\n\u001b[1;32m    120\u001b[0m     bool_masked_pos: Optional[torch\u001b[38;5;241m.\u001b[39mBoolTensor] \u001b[38;5;241m=\u001b[39m \u001b[38;5;28;01mNone\u001b[39;00m,\n\u001b[1;32m    121\u001b[0m     interpolate_pos_encoding: \u001b[38;5;28mbool\u001b[39m \u001b[38;5;241m=\u001b[39m \u001b[38;5;28;01mFalse\u001b[39;00m,\n\u001b[1;32m    122\u001b[0m ) \u001b[38;5;241m-\u001b[39m\u001b[38;5;241m>\u001b[39m torch\u001b[38;5;241m.\u001b[39mTensor:\n\u001b[0;32m--> 123\u001b[0m     batch_size, num_channels, height, width \u001b[38;5;241m=\u001b[39m pixel_values\u001b[38;5;241m.\u001b[39mshape\n\u001b[1;32m    124\u001b[0m     embeddings \u001b[38;5;241m=\u001b[39m \u001b[38;5;28mself\u001b[39m\u001b[38;5;241m.\u001b[39mpatch_embeddings(pixel_values, interpolate_pos_encoding\u001b[38;5;241m=\u001b[39minterpolate_pos_encoding)\n\u001b[1;32m    126\u001b[0m     \u001b[38;5;28;01mif\u001b[39;00m bool_masked_pos \u001b[38;5;129;01mis\u001b[39;00m \u001b[38;5;129;01mnot\u001b[39;00m \u001b[38;5;28;01mNone\u001b[39;00m:\n",
      "\u001b[0;31mValueError\u001b[0m: too many values to unpack (expected 4)"
     ]
    }
   ],
   "source": [
    "from transformers import ViTForImageClassification\n",
    "m = ViTForImageClassification.from_pretrained(\"google/vit-base-patch16-224\", attn_implementation=\"eager\", torch_dtype=torch.float16)\n",
    "\n",
    "# Test input\n",
    "input = torch.randn(5, 1, 48, 10, 10)  # Batch of 5, single channel, depth=48, height=10, width=10\n",
    "output = m(input)\n",
    "print(output.shape)  # Output: [5, 5]"
   ]
  },
  {
   "cell_type": "code",
   "execution_count": 28,
   "id": "66d2abd9-929c-46e8-89e2-7a3510258d65",
   "metadata": {},
   "outputs": [
    {
     "name": "stdout",
     "output_type": "stream",
     "text": [
      "torch.Size([5, 5])\n"
     ]
    }
   ],
   "source": [
    "import torch\n",
    "import torch.nn as nn\n",
    "import torch.nn.functional as F\n",
    "\n",
    "# possible changes: change # heads to 6, change depth to ~4$\n",
    "\n",
    "class PatchEmbedding3D(nn.Module):\n",
    "    def __init__(self, in_channels, embed_dim, patch_size=(2, 4, 4)):\n",
    "        super().__init__()\n",
    "        self.proj = nn.Conv3d(\n",
    "            in_channels, embed_dim, kernel_size=patch_size, stride=patch_size\n",
    "        )\n",
    "\n",
    "    def forward(self, x):\n",
    "        return self.proj(x)  # [batch_size, embed_dim, D_out, H_out, W_out]\n",
    "\n",
    "\n",
    "class WindowAttention3D(nn.Module):\n",
    "    def __init__(self, embed_dim, window_size, num_heads):\n",
    "        super().__init__()\n",
    "        self.embed_dim = embed_dim\n",
    "        self.num_heads = num_heads\n",
    "        self.window_size = window_size\n",
    "\n",
    "        self.qkv = nn.Linear(embed_dim, embed_dim * 3, bias=True)\n",
    "        self.softmax = nn.Softmax(dim=-1)\n",
    "        self.proj = nn.Linear(embed_dim, embed_dim)\n",
    "\n",
    "    def forward(self, x):\n",
    "        B, D, H, W, C = x.shape\n",
    "        x = x.view(B * D * H * W, C)  # Flatten spatial dimensions\n",
    "        qkv = self.qkv(x).reshape(B * D * H * W, 3, self.num_heads, C // self.num_heads)\n",
    "        q, k, v = qkv.permute(1, 2, 0, 3)\n",
    "\n",
    "        attn = (q @ k.transpose(-2, -1)) / (C // self.num_heads) ** 0.5\n",
    "        attn = self.softmax(attn)\n",
    "        x = (attn @ v).transpose(1, 2).reshape(B, D, H, W, C)\n",
    "        x = self.proj(x.view(B * D * H * W, C)).view(B, D, H, W, C)\n",
    "        return x\n",
    "\n",
    "\n",
    "class SwinBlock3D(nn.Module):\n",
    "    def __init__(self, embed_dim, window_size, num_heads):\n",
    "        super().__init__()\n",
    "        self.attn = WindowAttention3D(embed_dim, window_size, num_heads)\n",
    "        self.norm1 = nn.LayerNorm(embed_dim)\n",
    "        self.norm2 = nn.LayerNorm(embed_dim)\n",
    "        self.mlp = nn.Sequential(\n",
    "            nn.Linear(embed_dim, embed_dim * 4),\n",
    "            nn.GELU(),\n",
    "            nn.Linear(embed_dim * 4, embed_dim),\n",
    "        )\n",
    "\n",
    "    def forward(self, x):\n",
    "        shortcut = x\n",
    "        x = self.norm1(x)\n",
    "        x = self.attn(x)\n",
    "        x = shortcut + x\n",
    "\n",
    "        shortcut = x\n",
    "        x = self.norm2(x)\n",
    "        x = self.mlp(x)\n",
    "        x = shortcut + x\n",
    "        return x\n",
    "\n",
    "\n",
    "class SwinTransformer3D(nn.Module):\n",
    "    def __init__(self, in_channels, num_classes, embed_dim=96, window_size=(2, 7, 7), patch_size=(2, 4, 4), num_heads=4, depth=2):\n",
    "        super().__init__()\n",
    "        self.patch_embed = PatchEmbedding3D(in_channels, embed_dim, patch_size)\n",
    "        self.layers = nn.ModuleList([\n",
    "            SwinBlock3D(embed_dim, window_size, num_heads) for _ in range(depth)\n",
    "        ])\n",
    "        self.pool = nn.AdaptiveAvgPool3d(1)\n",
    "        self.fc = nn.Linear(embed_dim, num_classes)\n",
    "\n",
    "    def forward(self, x):\n",
    "        x = self.patch_embed(x)  # [B, embed_dim, D, H, W]\n",
    "        B, C, D, H, W = x.shape\n",
    "        x = x.permute(0, 2, 3, 4, 1)  # [B, D, H, W, embed_dim]\n",
    "\n",
    "        for layer in self.layers:\n",
    "            x = layer(x)\n",
    "\n",
    "        x = x.permute(0, 4, 1, 2, 3)  # [B, embed_dim, D, H, W]\n",
    "        x = self.pool(x)\n",
    "        x = x.view(B, -1)\n",
    "        x = self.fc(x)\n",
    "        return x\n",
    "\n",
    "\n",
    "# Instantiate and test the model\n",
    "m = SwinTransformer3D(\n",
    "    in_channels=1,  # Single-channel input\n",
    "    num_classes=5,  # Number of output classes\n",
    "    embed_dim=96,   # Embedding dimension\n",
    "    window_size=(2, 7, 7),\n",
    "    patch_size=(2, 4, 4),\n",
    "    num_heads=6,\n",
    "    depth=4\n",
    ")\n",
    "\n",
    "# Test input\n",
    "input_tensor = torch.randn(5, 1, 48, 10, 10)  # [batch_size, num_channels, depth, height, width]\n",
    "output = model(input_tensor)\n",
    "print(output.shape)  # Expected output: [5, num_classes]\n"
   ]
  },
  {
   "cell_type": "code",
   "execution_count": null,
   "id": "44db6561-2b69-411a-a8e9-3dd99ea90ee4",
   "metadata": {},
   "outputs": [],
   "source": [
    "### TRAIN\n"
   ]
  },
  {
   "cell_type": "code",
   "execution_count": null,
   "id": "0a761859-57e1-423b-b38c-38f8ad929637",
   "metadata": {},
   "outputs": [
    {
     "name": "stdout",
     "output_type": "stream",
     "text": [
      "[1,   188] loss: 1.491613084014426\n",
      "[2,   188] loss: 1.4295181486200779\n",
      "[3,   188] loss: 1.458761526866162\n",
      "[4,   188] loss: 1.3924557791745409\n",
      "[5,   188] loss: 1.3645539175956807\n",
      "[6,   188] loss: 1.3339179953996172\n",
      "[7,   188] loss: 1.3163807848666578\n",
      "[8,   188] loss: 1.3757070144440264\n",
      "[9,   188] loss: 1.2906375169119937\n",
      "[10,   188] loss: 1.2264684790626486\n",
      "[11,   188] loss: 1.2002068380726145\n",
      "[12,   188] loss: 1.2013925176034583\n",
      "[13,   188] loss: 1.119318500319694\n",
      "[14,   188] loss: 1.1379796085839575\n",
      "[15,   188] loss: 1.0861911477243646\n",
      "[16,   188] loss: 0.9671336504373145\n",
      "[17,   188] loss: 0.969893734030267\n",
      "[18,   188] loss: 0.9290232336584557\n",
      "[19,   188] loss: 0.825304666415174\n",
      "[20,   188] loss: 0.7416854455987824\n",
      "[21,   188] loss: 0.7679279837361042\n"
     ]
    }
   ],
   "source": [
    "from torch import optim\n",
    "criterion = nn.CrossEntropyLoss(label_smoothing=0.0)\n",
    "optimizer = optim.Adam(m.parameters(), lr=0.001)\n",
    "scheduler = lr_scheduler.ExponentialLR(optimizer, gamma=0.99)\n",
    "m.to(device)\n",
    "val_losses = []\n",
    "train_losses = []\n",
    "# train for a number of epochs\n",
    "nbr_epochs=50\n",
    "\n",
    "min_loss = 1e9\n",
    "best_model = None\n",
    "\n",
    "for epoch in range(nbr_epochs):  # loop over the dataset multiple times\n",
    "\n",
    "    running_loss = 0.0\n",
    "    for i, data in enumerate(train_loader, 0):\n",
    "        # get the inputs; data is a list of [inputs, labels]\n",
    "        inputs, labels = data\n",
    "        labels.to(device)\n",
    "        # zero the parameter gradients\n",
    "        optimizer.zero_grad()\n",
    "        inputs = torch.unsqueeze(inputs,1).to(device)\n",
    "        # forward + backward + optimize\n",
    "        outputs = m(inputs)\n",
    "        loss = criterion(outputs, labels.to(device))\n",
    "        loss.backward()\n",
    "        optimizer.step()\n",
    "\n",
    "        running_loss += loss.item()\n",
    "\n",
    "    train_losses.append(running_loss/len(train_loader))                    \n",
    "    running_loss = 0.0\n",
    "                    \n",
    "    running_loss = 0.0\n",
    "    for i, data in enumerate(validation_loader, 0):\n",
    "         inputs, labels = data\n",
    "         labels.to(device)\n",
    "         inputs = torch.unsqueeze(inputs,1).to(device)\n",
    "         outputs = m(inputs)\n",
    "         loss = criterion(outputs, labels.to(device))\n",
    "         running_loss += loss.item()\n",
    "    val_losses.append(running_loss/len(validation_loader))\n",
    "\n",
    "    if running_loss/len(validation_loader) < min_loss:\n",
    "        \n",
    "        \n",
    "    print(f'[{epoch + 1}, {i + 1:5d}] loss: {running_loss/len(validation_loader)}')\n",
    "    running_loss = 0.0  \n",
    "    \n",
    "print('Finished Training')\n"
   ]
  },
  {
   "cell_type": "code",
   "execution_count": 29,
   "id": "1cca8c74-bf19-4609-96b7-2b4b074e8f58",
   "metadata": {},
   "outputs": [
    {
     "data": {
      "text/plain": [
       "[0.08061397222877828]"
      ]
     },
     "execution_count": 29,
     "metadata": {},
     "output_type": "execute_result"
    }
   ],
   "source": [
    "train_losses"
   ]
  },
  {
   "cell_type": "code",
   "execution_count": 30,
   "id": "2959be07-5dea-4956-a430-e68a66c45809",
   "metadata": {},
   "outputs": [
    {
     "data": {
      "text/plain": [
       "[1.3566383061309655,\n",
       " 1.319440068056186,\n",
       " 1.3038133184115093,\n",
       " 1.3066272499660652,\n",
       " 1.273679858694474,\n",
       " 1.2616818255434434,\n",
       " 1.2643747813999653,\n",
       " 1.2549073131134112,\n",
       " 1.2593605822573106,\n",
       " 1.2019883841276169,\n",
       " 1.2140434806545575,\n",
       " 1.2174772936850786,\n",
       " 1.229064888631304,\n",
       " 1.1766055381546419,\n",
       " 1.184870382770896,\n",
       " 1.1877825533350308,\n",
       " 1.1255945755789678,\n",
       " 1.1458721179515123,\n",
       " 1.1697895663479965,\n",
       " 1.114672073473533,\n",
       " 1.154428407549858,\n",
       " 1.1392692690715194,\n",
       " 1.171152471875151,\n",
       " 1.1083666533231735,\n",
       " 1.1249816079313557,\n",
       " 1.178707802047332,\n",
       " 1.148253496736288,\n",
       " 1.0738498189797003,\n",
       " 1.1527160772432883,\n",
       " 1.2002685815095901,\n",
       " 1.2118613243413467,\n",
       " 1.1201910460367799,\n",
       " 1.1369117684662342,\n",
       " 1.1923769037239254,\n",
       " 1.1649899625529845,\n",
       " 1.0914796298990648,\n",
       " 1.1744981951390703,\n",
       " 1.0943538847689827,\n",
       " 1.020733345920841,\n",
       " 1.1012077789443235,\n",
       " 1.169570092111826,\n",
       " 1.001598668595155,\n",
       " 1.1700271970282,\n",
       " 1.1361860949546099,\n",
       " 1.1265378817139815,\n",
       " 1.030341441432635,\n",
       " 1.1226954502053559,\n",
       " 1.2110591509457056,\n",
       " 1.0767512125118326,\n",
       " 1.2308274784397024]"
      ]
     },
     "execution_count": 30,
     "metadata": {},
     "output_type": "execute_result"
    }
   ],
   "source": [
    "val_losses"
   ]
  },
  {
   "cell_type": "code",
   "execution_count": 25,
   "id": "ffebe210-cd27-4d28-9cca-e54fb5bd4cab",
   "metadata": {},
   "outputs": [
    {
     "data": {
      "text/plain": [
       "<matplotlib.legend.Legend at 0x14b500bf4b10>"
      ]
     },
     "execution_count": 25,
     "metadata": {},
     "output_type": "execute_result"
    },
    {
     "data": {
      "image/png": "[encoded data removed]",
      "text/plain": [
       "<Figure size 640x480 with 1 Axes>"
      ]
     },
     "metadata": {},
     "output_type": "display_data"
    }
   ],
   "source": [
    "#plot training and validation loss as training go (both should go down and then plateau)\n",
    "import seaborn as sns\n",
    "fig, ax = plt.subplots()\n",
    "sns.scatterplot(train_losses)\n",
    "sns.scatterplot(val_losses)\n",
    "ax.set_ylim(0, 2\n",
    "           )\n",
    "ax.set_xlim(0, 50)\n",
    "sns.scatterplot(train_losses, label= 'train')\n",
    "sns.scatterplot(val_losses,label='validation')\n",
    "ax.legend()"
   ]
  },
  {
   "cell_type": "code",
   "execution_count": 26,
   "id": "11140f47-d264-4ccd-8dc2-e51b225b5714",
   "metadata": {},
   "outputs": [
    {
     "name": "stdout",
     "output_type": "stream",
     "text": [
      "188\n"
     ]
    },
    {
     "name": "stderr",
     "output_type": "stream",
     "text": [
      "/storage/group/tvq5043/default/env/lib/python3.11/site-packages/sklearn/metrics/_classification.py:395: UserWarning: A single label was found in 'y_true' and 'y_pred'. For the confusion matrix to have the correct shape, use the 'labels' parameter to pass all known labels.\n",
      "  warnings.warn(\n"
     ]
    },
    {
     "data": {
      "text/plain": [
       "<Axes: >"
      ]
     },
     "execution_count": 26,
     "metadata": {},
     "output_type": "execute_result"
    },
    {
     "data": {
      "image/png": "[encoded data removed]",
      "text/plain": [
       "<Figure size 1200x700 with 2 Axes>"
      ]
     },
     "metadata": {},
     "output_type": "display_data"
    }
   ],
   "source": [
    "#plot the confusion matrix calculation on the validation set\n",
    "\n",
    "from sklearn.metrics import confusion_matrix\n",
    "import seaborn as sn\n",
    "import pandas as pd\n",
    "\n",
    "y_pred = []\n",
    "y_true = []\n",
    "\n",
    "# iterate over test data\n",
    "print(len(validation_loader))\n",
    "for inputs, labels in validation_loader:\n",
    "        inputs = torch.unsqueeze(inputs,1).to(device)\n",
    "        output = m(inputs) # Feed Network\n",
    "\n",
    "        output = (torch.max(torch.exp(output), 1)[1]).data.cpu().numpy()\n",
    "        #output=output.data.cpu().numpy()\n",
    "        y_pred.extend(output) # Save Prediction\n",
    "        \n",
    "        labels = labels.data.cpu().numpy()\n",
    "        y_true.extend(labels) # Save Truth\n",
    "\n",
    "classes = list(dict_tree.keys())\n",
    "from sklearn.metrics import confusion_matrix\n",
    "# Build confusion matrix\n",
    "cf_matrix = confusion_matrix(labels.astype(int), output.astype(int))\n",
    "cf_matrix = confusion_matrix(np.array(y_true),np.array( y_pred))\n",
    "\n",
    "\n",
    "cm = pd.DataFrame(cf_matrix, index = [i for i in classes],columns = [i for i in classes])\n",
    "plt.figure(figsize = (12,7))\n",
    "sn.heatmap(cm, annot=True)\n",
    "#plt.savefig('output.png')\n",
    "\n"
   ]
  },
  {
   "cell_type": "code",
   "execution_count": 27,
   "id": "430567a0-77e3-4e6d-87fe-4328da64c1f7",
   "metadata": {},
   "outputs": [
    {
     "name": "stdout",
     "output_type": "stream",
     "text": [
      "              precision    recall  f1-score   support\n",
      "\n",
      "     Quercus      0.950     0.717     0.817       212\n",
      "       Pinus      0.961     0.983     0.972       175\n",
      "       Tsuga      0.971     1.000     0.985       202\n",
      "       Carya      0.884     0.978     0.928       179\n",
      "        Acer      0.843     0.958     0.897       168\n",
      "\n",
      "    accuracy                          0.921       936\n",
      "   macro avg      0.922     0.927     0.920       936\n",
      "weighted avg      0.925     0.921     0.918       936\n",
      "\n"
     ]
    }
   ],
   "source": [
    "from sklearn.metrics import classification_report\n",
    "print(classification_report(np.array(y_true),np.array( y_pred), target_names=[i for i in classes], digits=3))"
   ]
  },
  {
   "cell_type": "code",
   "execution_count": null,
   "id": "ebdbf15f-2f83-49b0-840a-32a97bbcc5fb",
   "metadata": {},
   "outputs": [],
   "source": []
  },
  {
   "cell_type": "code",
   "execution_count": null,
   "id": "73623532-d1cc-44fa-be29-a4c0bc70720a",
   "metadata": {},
   "outputs": [],
   "source": []
  }
 ],
 "metadata": {
  "kernelspec": {
   "display_name": "Python 3 (ipykernel)",
   "language": "python",
   "name": "python3"
  },
  "language_info": {
   "codemirror_mode": {
    "name": "ipython",
    "version": 3
   },
   "file_extension": ".py",
   "mimetype": "text/x-python",
   "name": "python",
   "nbconvert_exporter": "python",
   "pygments_lexer": "ipython3",
   "version": "3.11.9"
  }
 },
 "nbformat": 4,
 "nbformat_minor": 5
}
